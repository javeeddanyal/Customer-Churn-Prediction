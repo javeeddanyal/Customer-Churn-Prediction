{
 "cells": [
  {
   "cell_type": "markdown",
   "metadata": {},
   "source": [
    "# MACHINE LEARNING USE CASES (CHURN)\n",
    "\n",
    "# Nigeria Telecoms Churn Dataset\n",
    " \n",
    "Predict the likelihood of churn among mobile telephone subscribers using a balanced dataset\n",
    "\n",
    "## Customer churn prediction\n",
    "\n",
    "Churn prediction, or the task of identifying customers who are likely to discontinue use of a service, is an important and lucrative concern of firms in many different industries. As these firms collect an increasing amount of large-scale, heterogeneous data on the characteristics and behaviors of customers, new methods become possible for predicting churn. \n",
    "\n",
    "**Who should receive extra attention from customer service to secure their loyalty?**"
   ]
  },
  {
   "cell_type": "markdown",
   "metadata": {},
   "source": [
    "**On average, keeping existing customers is five times cheaper than the cost of recruiting new ones. As a result, marketing executives often find themselves trying to estimate the likelihood of customer churn and finding the necessary actions to minimize the churn rate.**"
   ]
  },
  {
   "cell_type": "markdown",
   "metadata": {},
   "source": [
    "<table style=\"border: none\" align=\"left\">\n",
    "   <tr style=\"border: none\">\n",
    "      <th style=\"border: none\"><font face=\"verdana\" size=\"6\" color=\"orange\"><b>Predicting telecom customer churn with Apache Spark</b></th>\n",
    "  <tr style=\"border: none\">\n",
    "       <th style=\"border: none\"><img src=\"https://github.com/pmservice/wml-sample-models/blob/master/spark/customer-satisfaction-prediction/images/users_banner_2-03.png?raw=true\" width=\"600\" alt=\"Icon\"> </th>\n",
    "   </tr>\n",
    "</table>"
   ]
  },
  {
   "cell_type": "markdown",
   "metadata": {},
   "source": [
    "Apache Spark has become one of the most commonly used and supported open-source tools for machine learning and data science.\n",
    "\n",
    "Apache Spark, once a component of the Hadoop ecosystem, is now becoming the big-data platform of choice for enterprises. It is a powerful open source engine that provides real-time stream processing, interactive processing, graph processing, in-memory processing as well as batch processing with very fast speed, ease of use and standard interface."
   ]
  },
  {
   "cell_type": "code",
   "execution_count": 2,
   "metadata": {},
   "outputs": [],
   "source": [
    "#!jps"
   ]
  },
  {
   "cell_type": "code",
   "execution_count": 18,
   "metadata": {},
   "outputs": [],
   "source": [
    "#spark\n",
    "from time import time\n",
    "\n",
    "# Build the model\n",
    "t0 = time()"
   ]
  },
  {
   "cell_type": "code",
   "execution_count": 17,
   "metadata": {},
   "outputs": [],
   "source": [
    "# Disable warnings, set Matplotlib inline plotting and loading Pandas package\n",
    "import warnings\n",
    "import pandas as pd\n",
    "warnings.filterwarnings('ignore')\n",
    "\n",
    "%matplotlib inline\n"
   ]
  },
  {
   "cell_type": "code",
   "execution_count": 5,
   "metadata": {},
   "outputs": [
    {
     "data": {
      "text/plain": [
       "'/home/javeed/JupyterNotebook*/Jupyter_Projects/AM_CHURN_Prediction'"
      ]
     },
     "execution_count": 5,
     "metadata": {},
     "output_type": "execute_result"
    }
   ],
   "source": [
    "pwd"
   ]
  },
  {
   "cell_type": "code",
   "execution_count": 2,
   "metadata": {},
   "outputs": [
    {
     "data": {
      "text/html": [
       "\n",
       "            <div>\n",
       "                <p><b>SparkSession - hive</b></p>\n",
       "                \n",
       "        <div>\n",
       "            <p><b>SparkContext</b></p>\n",
       "\n",
       "            <p><a href=\"http://192.168.0.102:4041\">Spark UI</a></p>\n",
       "\n",
       "            <dl>\n",
       "              <dt>Version</dt>\n",
       "                <dd><code>v2.3.1</code></dd>\n",
       "              <dt>Master</dt>\n",
       "                <dd><code>local[6]</code></dd>\n",
       "              <dt>AppName</dt>\n",
       "                <dd><code>PySparkShell</code></dd>\n",
       "            </dl>\n",
       "        </div>\n",
       "        \n",
       "            </div>\n",
       "        "
      ],
      "text/plain": [
       "<pyspark.sql.session.SparkSession at 0x7f13664916a0>"
      ]
     },
     "execution_count": 2,
     "metadata": {},
     "output_type": "execute_result"
    }
   ],
   "source": [
    "spark"
   ]
  },
  {
   "cell_type": "code",
   "execution_count": 3,
   "metadata": {},
   "outputs": [],
   "source": [
    "sc.stop()"
   ]
  },
  {
   "cell_type": "markdown",
   "metadata": {},
   "source": [
    "# Loading Nigeria Telcom dataset"
   ]
  },
  {
   "cell_type": "code",
   "execution_count": 2,
   "metadata": {},
   "outputs": [],
   "source": [
    "from pyspark import SparkConf, SparkContext\n",
    "from pyspark.sql import SQLContext\n",
    "#sc= SparkContext()\n",
    "#sqlContext = SQLContext(sc)\n",
    "\n",
    "CV_data = sqlContext.read.format('com.databricks.spark.csv').options(header='true', inferschema='true').load('TRAIN.csv')"
   ]
  },
  {
   "cell_type": "code",
   "execution_count": 3,
   "metadata": {},
   "outputs": [],
   "source": [
    "test_data = sqlContext.read.format('com.databricks.spark.csv').options(header='true', inferschema='true').load('TEST.csv')"
   ]
  },
  {
   "cell_type": "code",
   "execution_count": 4,
   "metadata": {},
   "outputs": [
    {
     "name": "stdout",
     "output_type": "stream",
     "text": [
      "Data size instance is 1401\n"
     ]
    }
   ],
   "source": [
    "print(\"Data size instance is {}\".format(CV_data.count()))"
   ]
  },
  {
   "cell_type": "code",
   "execution_count": 5,
   "metadata": {},
   "outputs": [
    {
     "name": "stdout",
     "output_type": "stream",
     "text": [
      "Number of Columns:  16\n"
     ]
    }
   ],
   "source": [
    "print(\"Number of Columns: %3g\" % len(CV_data.schema))"
   ]
  },
  {
   "cell_type": "code",
   "execution_count": 6,
   "metadata": {},
   "outputs": [
    {
     "name": "stdout",
     "output_type": "stream",
     "text": [
      "Number of records with complete data: 1202\n"
     ]
    }
   ],
   "source": [
    "df_complete = CV_data.dropna()\n",
    "\n",
    "print(\"Number of records with complete data: %3g\" % df_complete.count())"
   ]
  },
  {
   "cell_type": "code",
   "execution_count": 9,
   "metadata": {},
   "outputs": [
    {
     "name": "stdout",
     "output_type": "stream",
     "text": [
      "+------------+-----+\n",
      "|Churn Status|count|\n",
      "+------------+-----+\n",
      "|        null|    1|\n",
      "|           1|  700|\n",
      "|           0|  700|\n",
      "+------------+-----+\n",
      "\n"
     ]
    }
   ],
   "source": [
    "CV_data.groupBy('Churn Status').count().show()"
   ]
  },
  {
   "cell_type": "markdown",
   "metadata": {},
   "source": [
    "Now we will inspect distribution of classes in label column."
   ]
  },
  {
   "cell_type": "code",
   "execution_count": 8,
   "metadata": {},
   "outputs": [
    {
     "name": "stdout",
     "output_type": "stream",
     "text": [
      "root\n",
      " |-- Customer ID: string (nullable = true)\n",
      " |-- network_age: integer (nullable = true)\n",
      " |-- Customer tenure in month: double (nullable = true)\n",
      " |-- Total Spend in Months 1 and 2 of 2017: double (nullable = true)\n",
      " |-- Total SMS Spend: double (nullable = true)\n",
      " |-- Total Data Spend: double (nullable = true)\n",
      " |-- Total Data Consumption: double (nullable = true)\n",
      " |-- Total Unique Calls: integer (nullable = true)\n",
      " |-- Total Onnet spend : integer (nullable = true)\n",
      " |-- Total Offnet spend: integer (nullable = true)\n",
      " |-- Total Call centre complaint calls: integer (nullable = true)\n",
      " |-- Network type subscription in Month 1: string (nullable = true)\n",
      " |-- Network type subscription in Month 2: string (nullable = true)\n",
      " |-- Most Loved Competitor network in in Month 1: string (nullable = true)\n",
      " |-- Most Loved Competitor network in in Month 2: string (nullable = true)\n",
      " |-- Churn Status: integer (nullable = true)\n",
      "\n"
     ]
    }
   ],
   "source": [
    "CV_data.cache()\n",
    "CV_data.printSchema()"
   ]
  },
  {
   "cell_type": "code",
   "execution_count": 15,
   "metadata": {},
   "outputs": [
    {
     "data": {
      "text/plain": [
       "[('Customer ID', 'string'),\n",
       " ('network_age', 'int'),\n",
       " ('Customer tenure in month', 'double'),\n",
       " ('Total Spend in Months 1 and 2 of 2017', 'double'),\n",
       " ('Total SMS Spend', 'double'),\n",
       " ('Total Data Spend', 'double'),\n",
       " ('Total Data Consumption', 'double'),\n",
       " ('Total Unique Calls', 'int'),\n",
       " ('Total Onnet spend ', 'int'),\n",
       " ('Total Offnet spend', 'int'),\n",
       " ('Total Call centre complaint calls', 'int'),\n",
       " ('Network type subscription in Month 1', 'string'),\n",
       " ('Network type subscription in Month 2', 'string'),\n",
       " ('Most Loved Competitor network in in Month 1', 'string'),\n",
       " ('Most Loved Competitor network in in Month 2', 'string'),\n",
       " ('Churn Status', 'int')]"
      ]
     },
     "execution_count": 15,
     "metadata": {},
     "output_type": "execute_result"
    }
   ],
   "source": [
    "CV_data.dtypes"
   ]
  },
  {
   "cell_type": "markdown",
   "metadata": {},
   "source": [
    "# Descriptive Statistical analytics"
   ]
  },
  {
   "cell_type": "code",
   "execution_count": 19,
   "metadata": {},
   "outputs": [
    {
     "data": {
      "text/html": [
       "<div>\n",
       "<style scoped>\n",
       "    .dataframe tbody tr th:only-of-type {\n",
       "        vertical-align: middle;\n",
       "    }\n",
       "\n",
       "    .dataframe tbody tr th {\n",
       "        vertical-align: top;\n",
       "    }\n",
       "\n",
       "    .dataframe thead th {\n",
       "        text-align: right;\n",
       "    }\n",
       "</style>\n",
       "<table border=\"1\" class=\"dataframe\">\n",
       "  <thead>\n",
       "    <tr style=\"text-align: right;\">\n",
       "      <th></th>\n",
       "      <th>0</th>\n",
       "      <th>1</th>\n",
       "      <th>2</th>\n",
       "      <th>3</th>\n",
       "      <th>4</th>\n",
       "    </tr>\n",
       "  </thead>\n",
       "  <tbody>\n",
       "    <tr>\n",
       "      <th>Customer ID</th>\n",
       "      <td>ADF0039</td>\n",
       "      <td>ADF0041</td>\n",
       "      <td>ADF0051</td>\n",
       "      <td>ADF0059</td>\n",
       "      <td>ADF0060</td>\n",
       "    </tr>\n",
       "    <tr>\n",
       "      <th>network_age</th>\n",
       "      <td>123</td>\n",
       "      <td>1316</td>\n",
       "      <td>2385</td>\n",
       "      <td>1614</td>\n",
       "      <td>2175</td>\n",
       "    </tr>\n",
       "    <tr>\n",
       "      <th>Customer tenure in month</th>\n",
       "      <td>4.1</td>\n",
       "      <td>43.87</td>\n",
       "      <td>79.5</td>\n",
       "      <td>53.8</td>\n",
       "      <td>72.5</td>\n",
       "    </tr>\n",
       "    <tr>\n",
       "      <th>Total Spend in Months 1 and 2 of 2017</th>\n",
       "      <td>76.714</td>\n",
       "      <td>98.8904</td>\n",
       "      <td>372.63</td>\n",
       "      <td>530.2</td>\n",
       "      <td>554.13</td>\n",
       "    </tr>\n",
       "    <tr>\n",
       "      <th>Total SMS Spend</th>\n",
       "      <td>0</td>\n",
       "      <td>4.14</td>\n",
       "      <td>3.51</td>\n",
       "      <td>6.85</td>\n",
       "      <td>6.99</td>\n",
       "    </tr>\n",
       "    <tr>\n",
       "      <th>Total Data Spend</th>\n",
       "      <td>1.25</td>\n",
       "      <td>1.25</td>\n",
       "      <td>1.25</td>\n",
       "      <td>1.25</td>\n",
       "      <td>153.75</td>\n",
       "    </tr>\n",
       "    <tr>\n",
       "      <th>Total Data Consumption</th>\n",
       "      <td>1.4951</td>\n",
       "      <td>1.0244</td>\n",
       "      <td>6.0898</td>\n",
       "      <td>3.3447</td>\n",
       "      <td>673204</td>\n",
       "    </tr>\n",
       "    <tr>\n",
       "      <th>Total Unique Calls</th>\n",
       "      <td>14</td>\n",
       "      <td>27</td>\n",
       "      <td>119</td>\n",
       "      <td>69</td>\n",
       "      <td>33</td>\n",
       "    </tr>\n",
       "    <tr>\n",
       "      <th>Total Onnet spend</th>\n",
       "      <td>564</td>\n",
       "      <td>1626</td>\n",
       "      <td>10411</td>\n",
       "      <td>6822</td>\n",
       "      <td>3387</td>\n",
       "    </tr>\n",
       "    <tr>\n",
       "      <th>Total Offnet spend</th>\n",
       "      <td>6408</td>\n",
       "      <td>4373</td>\n",
       "      <td>22039</td>\n",
       "      <td>6274</td>\n",
       "      <td>7241</td>\n",
       "    </tr>\n",
       "    <tr>\n",
       "      <th>Total Call centre complaint calls</th>\n",
       "      <td>2</td>\n",
       "      <td>1</td>\n",
       "      <td>1</td>\n",
       "      <td>1</td>\n",
       "      <td>1</td>\n",
       "    </tr>\n",
       "    <tr>\n",
       "      <th>Network type subscription in Month 1</th>\n",
       "      <td>2G</td>\n",
       "      <td>2G</td>\n",
       "      <td>2G</td>\n",
       "      <td>2G</td>\n",
       "      <td>2G</td>\n",
       "    </tr>\n",
       "    <tr>\n",
       "      <th>Network type subscription in Month 2</th>\n",
       "      <td>2G</td>\n",
       "      <td>2G</td>\n",
       "      <td>2G</td>\n",
       "      <td>2G</td>\n",
       "      <td>3G</td>\n",
       "    </tr>\n",
       "    <tr>\n",
       "      <th>Most Loved Competitor network in in Month 1</th>\n",
       "      <td>Uxaa</td>\n",
       "      <td>Uxaa</td>\n",
       "      <td>Weematel</td>\n",
       "      <td>0</td>\n",
       "      <td>Weematel</td>\n",
       "    </tr>\n",
       "    <tr>\n",
       "      <th>Most Loved Competitor network in in Month 2</th>\n",
       "      <td>Mango</td>\n",
       "      <td>Mango</td>\n",
       "      <td>Mango</td>\n",
       "      <td>Mango</td>\n",
       "      <td>Mango</td>\n",
       "    </tr>\n",
       "    <tr>\n",
       "      <th>Churn Status</th>\n",
       "      <td>0</td>\n",
       "      <td>0</td>\n",
       "      <td>0</td>\n",
       "      <td>0</td>\n",
       "      <td>0</td>\n",
       "    </tr>\n",
       "  </tbody>\n",
       "</table>\n",
       "</div>"
      ],
      "text/plain": [
       "                                                   0        1         2  \\\n",
       "Customer ID                                  ADF0039  ADF0041   ADF0051   \n",
       "network_age                                      123     1316      2385   \n",
       "Customer tenure in month                         4.1    43.87      79.5   \n",
       "Total Spend in Months 1 and 2 of 2017         76.714  98.8904    372.63   \n",
       "Total SMS Spend                                    0     4.14      3.51   \n",
       "Total Data Spend                                1.25     1.25      1.25   \n",
       "Total Data Consumption                        1.4951   1.0244    6.0898   \n",
       "Total Unique Calls                                14       27       119   \n",
       "Total Onnet spend                                564     1626     10411   \n",
       "Total Offnet spend                              6408     4373     22039   \n",
       "Total Call centre complaint calls                  2        1         1   \n",
       "Network type subscription in Month 1              2G       2G        2G   \n",
       "Network type subscription in Month 2              2G       2G        2G   \n",
       "Most Loved Competitor network in in Month 1     Uxaa     Uxaa  Weematel   \n",
       "Most Loved Competitor network in in Month 2    Mango    Mango     Mango   \n",
       "Churn Status                                       0        0         0   \n",
       "\n",
       "                                                   3         4  \n",
       "Customer ID                                  ADF0059   ADF0060  \n",
       "network_age                                     1614      2175  \n",
       "Customer tenure in month                        53.8      72.5  \n",
       "Total Spend in Months 1 and 2 of 2017          530.2    554.13  \n",
       "Total SMS Spend                                 6.85      6.99  \n",
       "Total Data Spend                                1.25    153.75  \n",
       "Total Data Consumption                        3.3447    673204  \n",
       "Total Unique Calls                                69        33  \n",
       "Total Onnet spend                               6822      3387  \n",
       "Total Offnet spend                              6274      7241  \n",
       "Total Call centre complaint calls                  1         1  \n",
       "Network type subscription in Month 1              2G        2G  \n",
       "Network type subscription in Month 2              2G        3G  \n",
       "Most Loved Competitor network in in Month 1        0  Weematel  \n",
       "Most Loved Competitor network in in Month 2    Mango     Mango  \n",
       "Churn Status                                       0         0  "
      ]
     },
     "execution_count": 19,
     "metadata": {},
     "output_type": "execute_result"
    }
   ],
   "source": [
    "pd.DataFrame(CV_data.take(5), columns = CV_data.columns).transpose()"
   ]
  },
  {
   "cell_type": "code",
   "execution_count": 20,
   "metadata": {},
   "outputs": [
    {
     "data": {
      "text/html": [
       "<div>\n",
       "<style scoped>\n",
       "    .dataframe tbody tr th:only-of-type {\n",
       "        vertical-align: middle;\n",
       "    }\n",
       "\n",
       "    .dataframe tbody tr th {\n",
       "        vertical-align: top;\n",
       "    }\n",
       "\n",
       "    .dataframe thead th {\n",
       "        text-align: right;\n",
       "    }\n",
       "</style>\n",
       "<table border=\"1\" class=\"dataframe\">\n",
       "  <thead>\n",
       "    <tr style=\"text-align: right;\">\n",
       "      <th></th>\n",
       "      <th>0</th>\n",
       "      <th>1</th>\n",
       "      <th>2</th>\n",
       "      <th>3</th>\n",
       "      <th>4</th>\n",
       "    </tr>\n",
       "  </thead>\n",
       "  <tbody>\n",
       "    <tr>\n",
       "      <th>summary</th>\n",
       "      <td>count</td>\n",
       "      <td>mean</td>\n",
       "      <td>stddev</td>\n",
       "      <td>min</td>\n",
       "      <td>max</td>\n",
       "    </tr>\n",
       "    <tr>\n",
       "      <th>Customer ID</th>\n",
       "      <td>1400</td>\n",
       "      <td>None</td>\n",
       "      <td>None</td>\n",
       "      <td>ADF0038</td>\n",
       "      <td>ADF2000</td>\n",
       "    </tr>\n",
       "    <tr>\n",
       "      <th>network_age</th>\n",
       "      <td>1400</td>\n",
       "      <td>1450.6342857142856</td>\n",
       "      <td>1276.0081878515143</td>\n",
       "      <td>-5</td>\n",
       "      <td>5451</td>\n",
       "    </tr>\n",
       "    <tr>\n",
       "      <th>Customer tenure in month</th>\n",
       "      <td>1400</td>\n",
       "      <td>48.35447857142861</td>\n",
       "      <td>42.53353617120916</td>\n",
       "      <td>-0.17</td>\n",
       "      <td>181.7</td>\n",
       "    </tr>\n",
       "    <tr>\n",
       "      <th>Total Spend in Months 1 and 2 of 2017</th>\n",
       "      <td>1400</td>\n",
       "      <td>805.6417288714298</td>\n",
       "      <td>1251.7420680916064</td>\n",
       "      <td>4.91</td>\n",
       "      <td>24438.83</td>\n",
       "    </tr>\n",
       "    <tr>\n",
       "      <th>Total SMS Spend</th>\n",
       "      <td>1400</td>\n",
       "      <td>30.394285714285747</td>\n",
       "      <td>60.88509461995129</td>\n",
       "      <td>0.0</td>\n",
       "      <td>873.98</td>\n",
       "    </tr>\n",
       "    <tr>\n",
       "      <th>Total Data Spend</th>\n",
       "      <td>1400</td>\n",
       "      <td>58.48229285714285</td>\n",
       "      <td>289.61358902150715</td>\n",
       "      <td>0.0</td>\n",
       "      <td>8295.0</td>\n",
       "    </tr>\n",
       "    <tr>\n",
       "      <th>Total Data Consumption</th>\n",
       "      <td>1400</td>\n",
       "      <td>2162306.9255843563</td>\n",
       "      <td>6865958.481718066</td>\n",
       "      <td>0.0586</td>\n",
       "      <td>9.945640205E7</td>\n",
       "    </tr>\n",
       "    <tr>\n",
       "      <th>Total Unique Calls</th>\n",
       "      <td>1400</td>\n",
       "      <td>202.42214285714286</td>\n",
       "      <td>302.0362199090275</td>\n",
       "      <td>1</td>\n",
       "      <td>2596</td>\n",
       "    </tr>\n",
       "    <tr>\n",
       "      <th>Total Onnet spend</th>\n",
       "      <td>1400</td>\n",
       "      <td>6814.392142857143</td>\n",
       "      <td>16707.78494264196</td>\n",
       "      <td>0</td>\n",
       "      <td>381174</td>\n",
       "    </tr>\n",
       "    <tr>\n",
       "      <th>Total Offnet spend</th>\n",
       "      <td>1400</td>\n",
       "      <td>15730.42</td>\n",
       "      <td>37448.94212041029</td>\n",
       "      <td>0</td>\n",
       "      <td>431440</td>\n",
       "    </tr>\n",
       "    <tr>\n",
       "      <th>Total Call centre complaint calls</th>\n",
       "      <td>1400</td>\n",
       "      <td>1.9221428571428572</td>\n",
       "      <td>2.345514718217054</td>\n",
       "      <td>1</td>\n",
       "      <td>49</td>\n",
       "    </tr>\n",
       "    <tr>\n",
       "      <th>Network type subscription in Month 1</th>\n",
       "      <td>1225</td>\n",
       "      <td>None</td>\n",
       "      <td>None</td>\n",
       "      <td>2G</td>\n",
       "      <td>Other</td>\n",
       "    </tr>\n",
       "    <tr>\n",
       "      <th>Network type subscription in Month 2</th>\n",
       "      <td>1256</td>\n",
       "      <td>None</td>\n",
       "      <td>None</td>\n",
       "      <td>2G</td>\n",
       "      <td>Other</td>\n",
       "    </tr>\n",
       "    <tr>\n",
       "      <th>Most Loved Competitor network in in Month 1</th>\n",
       "      <td>1399</td>\n",
       "      <td>0.0</td>\n",
       "      <td>0.0</td>\n",
       "      <td>0</td>\n",
       "      <td>Zintel</td>\n",
       "    </tr>\n",
       "    <tr>\n",
       "      <th>Most Loved Competitor network in in Month 2</th>\n",
       "      <td>1399</td>\n",
       "      <td>None</td>\n",
       "      <td>None</td>\n",
       "      <td>Mango</td>\n",
       "      <td>Zintel</td>\n",
       "    </tr>\n",
       "    <tr>\n",
       "      <th>Churn Status</th>\n",
       "      <td>1400</td>\n",
       "      <td>0.5</td>\n",
       "      <td>0.5001786671488145</td>\n",
       "      <td>0</td>\n",
       "      <td>1</td>\n",
       "    </tr>\n",
       "  </tbody>\n",
       "</table>\n",
       "</div>"
      ],
      "text/plain": [
       "                                                 0                   1  \\\n",
       "summary                                      count                mean   \n",
       "Customer ID                                   1400                None   \n",
       "network_age                                   1400  1450.6342857142856   \n",
       "Customer tenure in month                      1400   48.35447857142861   \n",
       "Total Spend in Months 1 and 2 of 2017         1400   805.6417288714298   \n",
       "Total SMS Spend                               1400  30.394285714285747   \n",
       "Total Data Spend                              1400   58.48229285714285   \n",
       "Total Data Consumption                        1400  2162306.9255843563   \n",
       "Total Unique Calls                            1400  202.42214285714286   \n",
       "Total Onnet spend                             1400   6814.392142857143   \n",
       "Total Offnet spend                            1400            15730.42   \n",
       "Total Call centre complaint calls             1400  1.9221428571428572   \n",
       "Network type subscription in Month 1          1225                None   \n",
       "Network type subscription in Month 2          1256                None   \n",
       "Most Loved Competitor network in in Month 1   1399                 0.0   \n",
       "Most Loved Competitor network in in Month 2   1399                None   \n",
       "Churn Status                                  1400                 0.5   \n",
       "\n",
       "                                                              2        3  \\\n",
       "summary                                                  stddev      min   \n",
       "Customer ID                                                None  ADF0038   \n",
       "network_age                                  1276.0081878515143       -5   \n",
       "Customer tenure in month                      42.53353617120916    -0.17   \n",
       "Total Spend in Months 1 and 2 of 2017        1251.7420680916064     4.91   \n",
       "Total SMS Spend                               60.88509461995129      0.0   \n",
       "Total Data Spend                             289.61358902150715      0.0   \n",
       "Total Data Consumption                        6865958.481718066   0.0586   \n",
       "Total Unique Calls                            302.0362199090275        1   \n",
       "Total Onnet spend                             16707.78494264196        0   \n",
       "Total Offnet spend                            37448.94212041029        0   \n",
       "Total Call centre complaint calls             2.345514718217054        1   \n",
       "Network type subscription in Month 1                       None       2G   \n",
       "Network type subscription in Month 2                       None       2G   \n",
       "Most Loved Competitor network in in Month 1                 0.0        0   \n",
       "Most Loved Competitor network in in Month 2                None    Mango   \n",
       "Churn Status                                 0.5001786671488145        0   \n",
       "\n",
       "                                                         4  \n",
       "summary                                                max  \n",
       "Customer ID                                        ADF2000  \n",
       "network_age                                           5451  \n",
       "Customer tenure in month                             181.7  \n",
       "Total Spend in Months 1 and 2 of 2017             24438.83  \n",
       "Total SMS Spend                                     873.98  \n",
       "Total Data Spend                                    8295.0  \n",
       "Total Data Consumption                       9.945640205E7  \n",
       "Total Unique Calls                                    2596  \n",
       "Total Onnet spend                                   381174  \n",
       "Total Offnet spend                                  431440  \n",
       "Total Call centre complaint calls                       49  \n",
       "Network type subscription in Month 1                 Other  \n",
       "Network type subscription in Month 2                 Other  \n",
       "Most Loved Competitor network in in Month 1         Zintel  \n",
       "Most Loved Competitor network in in Month 2         Zintel  \n",
       "Churn Status                                             1  "
      ]
     },
     "execution_count": 20,
     "metadata": {},
     "output_type": "execute_result"
    }
   ],
   "source": [
    "CV_data.describe().toPandas().transpose()"
   ]
  },
  {
   "cell_type": "code",
   "execution_count": 21,
   "metadata": {},
   "outputs": [],
   "source": [
    "numeric_features = [t[0] for t in CV_data.dtypes if t[1] == 'int' or t[1] == 'double']"
   ]
  },
  {
   "cell_type": "markdown",
   "metadata": {},
   "source": [
    "## Correlations between independent variables."
   ]
  },
  {
   "cell_type": "markdown",
   "metadata": {},
   "source": [
    "### Scatter matrix is a great way to roughly determine if we have a linear correlation between multiple independent variables."
   ]
  },
  {
   "cell_type": "code",
   "execution_count": 22,
   "metadata": {},
   "outputs": [],
   "source": [
    "sampled_data = CV_data.select(numeric_features).sample(False, 0.1).toPandas()"
   ]
  },
  {
   "cell_type": "code",
   "execution_count": 23,
   "metadata": {},
   "outputs": [
    {
     "data": {
      "image/png": "[encoded data removed]",
      "text/plain": [
       "<matplotlib.figure.Figure at 0x7f19db7ac0f0>"
      ]
     },
     "metadata": {},
     "output_type": "display_data"
    }
   ],
   "source": [
    "axs = pd.scatter_matrix(sampled_data, figsize=(12, 12))\n",
    "n = len(sampled_data.columns)\n",
    "for i in range(n):\n",
    "    v = axs[i, 0]\n",
    "    v.yaxis.label.set_rotation(0)\n",
    "    v.yaxis.label.set_ha('right')\n",
    "    v.set_yticks(())\n",
    "    h = axs[n-1, i]\n",
    "    h.xaxis.label.set_rotation(90)\n",
    "    h.set_xticks(())"
   ]
  },
  {
   "cell_type": "markdown",
   "metadata": {},
   "source": [
    "It’s hard to see. Let’s find correlation between independent variables and target variable.\n",
    "\n",
    "It’s obvious that there aren’t highly correlated numeric variables. Therefore, we will keep all of them for the model."
   ]
  },
  {
   "cell_type": "code",
   "execution_count": 24,
   "metadata": {},
   "outputs": [
    {
     "name": "stdout",
     "output_type": "stream",
     "text": [
      "Correlation to churn for =>  network_age -0.12332144815007545\n",
      "Correlation to churn for =>  Customer tenure in month -0.12331991661125695\n",
      "Correlation to churn for =>  Total Spend in Months 1 and 2 of 2017 -0.029137321605371847\n",
      "Correlation to churn for =>  Total SMS Spend 0.09946091822811771\n",
      "Correlation to churn for =>  Total Data Spend 0.03656000071898986\n",
      "Correlation to churn for =>  Total Data Consumption -0.1418576534362745\n",
      "Correlation to churn for =>  Total Unique Calls -0.1335073937061599\n",
      "Correlation to churn for =>  Total Onnet spend  -0.004495136304693974\n",
      "Correlation to churn for =>  Total Offnet spend 0.1036987403772196\n",
      "Correlation to churn for =>  Total Call centre complaint calls -0.07096324331424243\n",
      "Correlation to churn for =>  Churn Status 1.0\n"
     ]
    }
   ],
   "source": [
    "import six\n",
    "for i in CV_data.columns:\n",
    "    if not( isinstance(CV_data.select(i).take(1)[0][0], six.string_types)):\n",
    "        print( \"Correlation to churn for => \", i, CV_data.stat.corr('Churn Status',i))"
   ]
  },
  {
   "cell_type": "markdown",
   "metadata": {},
   "source": [
    "The correlation coefficient ranges from –1 to 1. When it is close to 1, it means that there is a strong positive correlation; for example, the median value tends to go up when the number of churners goes up. When the coefficient is close to –1, it means that there is a strong negative correlation; the median value tends to go down when the percentage of the lower status of the population goes up. Finally, coefficients close to zero mean that there is no linear correlation.\n",
    "\n",
    "We are going to keep all the variables, for now.\n",
    "\n",
    "Preparing data for Machine Learning. And we need two columns only — features and label **(“Churn Status”):**"
   ]
  },
  {
   "cell_type": "markdown",
   "metadata": {},
   "source": [
    "## Preparing Data for Machine Learning\n",
    "The process includes Category Indexing, One-Hot Encoding and VectorAssembler — a feature transformer that merges multiple columns into a vector column"
   ]
  },
  {
   "cell_type": "markdown",
   "metadata": {},
   "source": [
    "### StringIndexer\n",
    "StringIndexer encodes a string column of labels to a column of label indices. The indices are in [0, numLabels), ordered by label frequencies, so the most frequent label gets index 0."
   ]
  },
  {
   "cell_type": "code",
   "execution_count": 25,
   "metadata": {},
   "outputs": [
    {
     "data": {
      "text/html": [
       "<div>\n",
       "<style scoped>\n",
       "    .dataframe tbody tr th:only-of-type {\n",
       "        vertical-align: middle;\n",
       "    }\n",
       "\n",
       "    .dataframe tbody tr th {\n",
       "        vertical-align: top;\n",
       "    }\n",
       "\n",
       "    .dataframe thead th {\n",
       "        text-align: right;\n",
       "    }\n",
       "</style>\n",
       "<table border=\"1\" class=\"dataframe\">\n",
       "  <thead>\n",
       "    <tr style=\"text-align: right;\">\n",
       "      <th></th>\n",
       "      <th>0</th>\n",
       "      <th>1</th>\n",
       "      <th>2</th>\n",
       "      <th>3</th>\n",
       "      <th>4</th>\n",
       "    </tr>\n",
       "  </thead>\n",
       "  <tbody>\n",
       "    <tr>\n",
       "      <th>Customer ID</th>\n",
       "      <td>ADF0039</td>\n",
       "      <td>ADF0041</td>\n",
       "      <td>ADF0051</td>\n",
       "      <td>ADF0059</td>\n",
       "      <td>ADF0060</td>\n",
       "    </tr>\n",
       "    <tr>\n",
       "      <th>network_age</th>\n",
       "      <td>123</td>\n",
       "      <td>1316</td>\n",
       "      <td>2385</td>\n",
       "      <td>1614</td>\n",
       "      <td>2175</td>\n",
       "    </tr>\n",
       "    <tr>\n",
       "      <th>Customer tenure in month</th>\n",
       "      <td>4.1</td>\n",
       "      <td>43.87</td>\n",
       "      <td>79.5</td>\n",
       "      <td>53.8</td>\n",
       "      <td>72.5</td>\n",
       "    </tr>\n",
       "    <tr>\n",
       "      <th>Total Spend in Months 1 and 2 of 2017</th>\n",
       "      <td>76.714</td>\n",
       "      <td>98.8904</td>\n",
       "      <td>372.63</td>\n",
       "      <td>530.2</td>\n",
       "      <td>554.13</td>\n",
       "    </tr>\n",
       "    <tr>\n",
       "      <th>Total SMS Spend</th>\n",
       "      <td>0</td>\n",
       "      <td>4.14</td>\n",
       "      <td>3.51</td>\n",
       "      <td>6.85</td>\n",
       "      <td>6.99</td>\n",
       "    </tr>\n",
       "    <tr>\n",
       "      <th>Total Data Spend</th>\n",
       "      <td>1.25</td>\n",
       "      <td>1.25</td>\n",
       "      <td>1.25</td>\n",
       "      <td>1.25</td>\n",
       "      <td>153.75</td>\n",
       "    </tr>\n",
       "    <tr>\n",
       "      <th>Total Data Consumption</th>\n",
       "      <td>1.4951</td>\n",
       "      <td>1.0244</td>\n",
       "      <td>6.0898</td>\n",
       "      <td>3.3447</td>\n",
       "      <td>673204</td>\n",
       "    </tr>\n",
       "    <tr>\n",
       "      <th>Total Unique Calls</th>\n",
       "      <td>14</td>\n",
       "      <td>27</td>\n",
       "      <td>119</td>\n",
       "      <td>69</td>\n",
       "      <td>33</td>\n",
       "    </tr>\n",
       "    <tr>\n",
       "      <th>Total Onnet spend</th>\n",
       "      <td>564</td>\n",
       "      <td>1626</td>\n",
       "      <td>10411</td>\n",
       "      <td>6822</td>\n",
       "      <td>3387</td>\n",
       "    </tr>\n",
       "    <tr>\n",
       "      <th>Total Offnet spend</th>\n",
       "      <td>6408</td>\n",
       "      <td>4373</td>\n",
       "      <td>22039</td>\n",
       "      <td>6274</td>\n",
       "      <td>7241</td>\n",
       "    </tr>\n",
       "    <tr>\n",
       "      <th>Total Call centre complaint calls</th>\n",
       "      <td>2</td>\n",
       "      <td>1</td>\n",
       "      <td>1</td>\n",
       "      <td>1</td>\n",
       "      <td>1</td>\n",
       "    </tr>\n",
       "    <tr>\n",
       "      <th>Network type subscription in Month 1</th>\n",
       "      <td>2G</td>\n",
       "      <td>2G</td>\n",
       "      <td>2G</td>\n",
       "      <td>2G</td>\n",
       "      <td>2G</td>\n",
       "    </tr>\n",
       "    <tr>\n",
       "      <th>Network type subscription in Month 2</th>\n",
       "      <td>2G</td>\n",
       "      <td>2G</td>\n",
       "      <td>2G</td>\n",
       "      <td>2G</td>\n",
       "      <td>3G</td>\n",
       "    </tr>\n",
       "    <tr>\n",
       "      <th>Most Loved Competitor network in in Month 1</th>\n",
       "      <td>Uxaa</td>\n",
       "      <td>Uxaa</td>\n",
       "      <td>Weematel</td>\n",
       "      <td>0</td>\n",
       "      <td>Weematel</td>\n",
       "    </tr>\n",
       "    <tr>\n",
       "      <th>Most Loved Competitor network in in Month 2</th>\n",
       "      <td>Mango</td>\n",
       "      <td>Mango</td>\n",
       "      <td>Mango</td>\n",
       "      <td>Mango</td>\n",
       "      <td>Mango</td>\n",
       "    </tr>\n",
       "    <tr>\n",
       "      <th>Churn Status</th>\n",
       "      <td>0</td>\n",
       "      <td>0</td>\n",
       "      <td>0</td>\n",
       "      <td>0</td>\n",
       "      <td>0</td>\n",
       "    </tr>\n",
       "  </tbody>\n",
       "</table>\n",
       "</div>"
      ],
      "text/plain": [
       "                                                   0        1         2  \\\n",
       "Customer ID                                  ADF0039  ADF0041   ADF0051   \n",
       "network_age                                      123     1316      2385   \n",
       "Customer tenure in month                         4.1    43.87      79.5   \n",
       "Total Spend in Months 1 and 2 of 2017         76.714  98.8904    372.63   \n",
       "Total SMS Spend                                    0     4.14      3.51   \n",
       "Total Data Spend                                1.25     1.25      1.25   \n",
       "Total Data Consumption                        1.4951   1.0244    6.0898   \n",
       "Total Unique Calls                                14       27       119   \n",
       "Total Onnet spend                                564     1626     10411   \n",
       "Total Offnet spend                              6408     4373     22039   \n",
       "Total Call centre complaint calls                  2        1         1   \n",
       "Network type subscription in Month 1              2G       2G        2G   \n",
       "Network type subscription in Month 2              2G       2G        2G   \n",
       "Most Loved Competitor network in in Month 1     Uxaa     Uxaa  Weematel   \n",
       "Most Loved Competitor network in in Month 2    Mango    Mango     Mango   \n",
       "Churn Status                                       0        0         0   \n",
       "\n",
       "                                                   3         4  \n",
       "Customer ID                                  ADF0059   ADF0060  \n",
       "network_age                                     1614      2175  \n",
       "Customer tenure in month                        53.8      72.5  \n",
       "Total Spend in Months 1 and 2 of 2017          530.2    554.13  \n",
       "Total SMS Spend                                 6.85      6.99  \n",
       "Total Data Spend                                1.25    153.75  \n",
       "Total Data Consumption                        3.3447    673204  \n",
       "Total Unique Calls                                69        33  \n",
       "Total Onnet spend                               6822      3387  \n",
       "Total Offnet spend                              6274      7241  \n",
       "Total Call centre complaint calls                  1         1  \n",
       "Network type subscription in Month 1              2G        2G  \n",
       "Network type subscription in Month 2              2G        3G  \n",
       "Most Loved Competitor network in in Month 1        0  Weematel  \n",
       "Most Loved Competitor network in in Month 2    Mango     Mango  \n",
       "Churn Status                                       0         0  "
      ]
     },
     "execution_count": 25,
     "metadata": {},
     "output_type": "execute_result"
    }
   ],
   "source": [
    "pd.DataFrame(CV_data.take(5), columns = CV_data.columns).transpose()"
   ]
  },
  {
   "cell_type": "code",
   "execution_count": 34,
   "metadata": {},
   "outputs": [
    {
     "data": {
      "text/plain": [
       "[('Customer ID', 'string'),\n",
       " ('network_age', 'int'),\n",
       " ('Customer tenure in month', 'double'),\n",
       " ('Total Spend in Months 1 and 2 of 2017', 'double'),\n",
       " ('Total SMS Spend', 'double'),\n",
       " ('Total Data Spend', 'double'),\n",
       " ('Total Data Consumption', 'double'),\n",
       " ('Total Unique Calls', 'int'),\n",
       " ('Total Onnet spend ', 'int'),\n",
       " ('Total Offnet spend', 'int'),\n",
       " ('Total Call centre complaint calls', 'int'),\n",
       " ('Network type subscription in Month 1', 'string'),\n",
       " ('Network type subscription in Month 2', 'string'),\n",
       " ('Most Loved Competitor network in in Month 1', 'string'),\n",
       " ('Most Loved Competitor network in in Month 2', 'string'),\n",
       " ('Churn Status', 'int')]"
      ]
     },
     "execution_count": 34,
     "metadata": {},
     "output_type": "execute_result"
    }
   ],
   "source": [
    "CV_data.dtypes"
   ]
  },
  {
   "cell_type": "code",
   "execution_count": 70,
   "metadata": {},
   "outputs": [],
   "source": [
    "from pyspark.ml.feature import VectorAssembler\n",
    "from pyspark.ml import Pipeline\n",
    "from pyspark.ml.evaluation import BinaryClassificationEvaluator\n",
    "from pyspark.ml.tuning import CrossValidator, ParamGridBuilder"
   ]
  },
  {
   "cell_type": "code",
   "execution_count": 73,
   "metadata": {},
   "outputs": [],
   "source": [
    "vecAssembler = VectorAssembler(inputCols = [ 'network_age', 'Customer tenure in month', 'Total Spend in Months 1 and 2 of 2017', 'Total SMS Spend', 'Total Data Spend', 'Total Data Consumption', 'Total Unique Calls', 'Total Offnet spend', 'Total Call centre complaint calls'], outputCol = 'features')"
   ]
  },
  {
   "cell_type": "code",
   "execution_count": 74,
   "metadata": {},
   "outputs": [],
   "source": [
    "df_train = vecAssembler.transform(CV_data)"
   ]
  },
  {
   "cell_type": "code",
   "execution_count": 75,
   "metadata": {},
   "outputs": [
    {
     "data": {
      "text/html": [
       "<div>\n",
       "<style scoped>\n",
       "    .dataframe tbody tr th:only-of-type {\n",
       "        vertical-align: middle;\n",
       "    }\n",
       "\n",
       "    .dataframe tbody tr th {\n",
       "        vertical-align: top;\n",
       "    }\n",
       "\n",
       "    .dataframe thead th {\n",
       "        text-align: right;\n",
       "    }\n",
       "</style>\n",
       "<table border=\"1\" class=\"dataframe\">\n",
       "  <thead>\n",
       "    <tr style=\"text-align: right;\">\n",
       "      <th></th>\n",
       "      <th>0</th>\n",
       "      <th>1</th>\n",
       "      <th>2</th>\n",
       "      <th>3</th>\n",
       "      <th>4</th>\n",
       "    </tr>\n",
       "  </thead>\n",
       "  <tbody>\n",
       "    <tr>\n",
       "      <th>Customer ID</th>\n",
       "      <td>ADF0039</td>\n",
       "      <td>ADF0041</td>\n",
       "      <td>ADF0051</td>\n",
       "      <td>ADF0059</td>\n",
       "      <td>ADF0060</td>\n",
       "    </tr>\n",
       "    <tr>\n",
       "      <th>network_age</th>\n",
       "      <td>123</td>\n",
       "      <td>1316</td>\n",
       "      <td>2385</td>\n",
       "      <td>1614</td>\n",
       "      <td>2175</td>\n",
       "    </tr>\n",
       "    <tr>\n",
       "      <th>Customer tenure in month</th>\n",
       "      <td>4.1</td>\n",
       "      <td>43.87</td>\n",
       "      <td>79.5</td>\n",
       "      <td>53.8</td>\n",
       "      <td>72.5</td>\n",
       "    </tr>\n",
       "    <tr>\n",
       "      <th>Total Spend in Months 1 and 2 of 2017</th>\n",
       "      <td>76.714</td>\n",
       "      <td>98.8904</td>\n",
       "      <td>372.63</td>\n",
       "      <td>530.2</td>\n",
       "      <td>554.13</td>\n",
       "    </tr>\n",
       "    <tr>\n",
       "      <th>Total SMS Spend</th>\n",
       "      <td>0</td>\n",
       "      <td>4.14</td>\n",
       "      <td>3.51</td>\n",
       "      <td>6.85</td>\n",
       "      <td>6.99</td>\n",
       "    </tr>\n",
       "    <tr>\n",
       "      <th>Total Data Spend</th>\n",
       "      <td>1.25</td>\n",
       "      <td>1.25</td>\n",
       "      <td>1.25</td>\n",
       "      <td>1.25</td>\n",
       "      <td>153.75</td>\n",
       "    </tr>\n",
       "    <tr>\n",
       "      <th>Total Data Consumption</th>\n",
       "      <td>1.4951</td>\n",
       "      <td>1.0244</td>\n",
       "      <td>6.0898</td>\n",
       "      <td>3.3447</td>\n",
       "      <td>673204</td>\n",
       "    </tr>\n",
       "    <tr>\n",
       "      <th>Total Unique Calls</th>\n",
       "      <td>14</td>\n",
       "      <td>27</td>\n",
       "      <td>119</td>\n",
       "      <td>69</td>\n",
       "      <td>33</td>\n",
       "    </tr>\n",
       "    <tr>\n",
       "      <th>Total Onnet spend</th>\n",
       "      <td>564</td>\n",
       "      <td>1626</td>\n",
       "      <td>10411</td>\n",
       "      <td>6822</td>\n",
       "      <td>3387</td>\n",
       "    </tr>\n",
       "    <tr>\n",
       "      <th>Total Offnet spend</th>\n",
       "      <td>6408</td>\n",
       "      <td>4373</td>\n",
       "      <td>22039</td>\n",
       "      <td>6274</td>\n",
       "      <td>7241</td>\n",
       "    </tr>\n",
       "    <tr>\n",
       "      <th>Total Call centre complaint calls</th>\n",
       "      <td>2</td>\n",
       "      <td>1</td>\n",
       "      <td>1</td>\n",
       "      <td>1</td>\n",
       "      <td>1</td>\n",
       "    </tr>\n",
       "    <tr>\n",
       "      <th>Network type subscription in Month 1</th>\n",
       "      <td>2G</td>\n",
       "      <td>2G</td>\n",
       "      <td>2G</td>\n",
       "      <td>2G</td>\n",
       "      <td>2G</td>\n",
       "    </tr>\n",
       "    <tr>\n",
       "      <th>Network type subscription in Month 2</th>\n",
       "      <td>2G</td>\n",
       "      <td>2G</td>\n",
       "      <td>2G</td>\n",
       "      <td>2G</td>\n",
       "      <td>3G</td>\n",
       "    </tr>\n",
       "    <tr>\n",
       "      <th>Most Loved Competitor network in in Month 1</th>\n",
       "      <td>Uxaa</td>\n",
       "      <td>Uxaa</td>\n",
       "      <td>Weematel</td>\n",
       "      <td>0</td>\n",
       "      <td>Weematel</td>\n",
       "    </tr>\n",
       "    <tr>\n",
       "      <th>Most Loved Competitor network in in Month 2</th>\n",
       "      <td>Mango</td>\n",
       "      <td>Mango</td>\n",
       "      <td>Mango</td>\n",
       "      <td>Mango</td>\n",
       "      <td>Mango</td>\n",
       "    </tr>\n",
       "    <tr>\n",
       "      <th>Churn Status</th>\n",
       "      <td>0</td>\n",
       "      <td>0</td>\n",
       "      <td>0</td>\n",
       "      <td>0</td>\n",
       "      <td>0</td>\n",
       "    </tr>\n",
       "    <tr>\n",
       "      <th>features</th>\n",
       "      <td>[123.0, 4.1, 76.714, 0.0, 1.25, 1.4951, 14.0, ...</td>\n",
       "      <td>[1316.0, 43.87, 98.8904, 4.14, 1.25, 1.0244, 2...</td>\n",
       "      <td>[2385.0, 79.5, 372.63, 3.51, 1.25, 6.0898, 119...</td>\n",
       "      <td>[1614.0, 53.8, 530.2, 6.85, 1.25, 3.3447, 69.0...</td>\n",
       "      <td>[2175.0, 72.5, 554.13, 6.99, 153.75, 673204.03...</td>\n",
       "    </tr>\n",
       "  </tbody>\n",
       "</table>\n",
       "</div>"
      ],
      "text/plain": [
       "                                                                                             0  \\\n",
       "Customer ID                                                                            ADF0039   \n",
       "network_age                                                                                123   \n",
       "Customer tenure in month                                                                   4.1   \n",
       "Total Spend in Months 1 and 2 of 2017                                                   76.714   \n",
       "Total SMS Spend                                                                              0   \n",
       "Total Data Spend                                                                          1.25   \n",
       "Total Data Consumption                                                                  1.4951   \n",
       "Total Unique Calls                                                                          14   \n",
       "Total Onnet spend                                                                          564   \n",
       "Total Offnet spend                                                                        6408   \n",
       "Total Call centre complaint calls                                                            2   \n",
       "Network type subscription in Month 1                                                        2G   \n",
       "Network type subscription in Month 2                                                        2G   \n",
       "Most Loved Competitor network in in Month 1                                               Uxaa   \n",
       "Most Loved Competitor network in in Month 2                                              Mango   \n",
       "Churn Status                                                                                 0   \n",
       "features                                     [123.0, 4.1, 76.714, 0.0, 1.25, 1.4951, 14.0, ...   \n",
       "\n",
       "                                                                                             1  \\\n",
       "Customer ID                                                                            ADF0041   \n",
       "network_age                                                                               1316   \n",
       "Customer tenure in month                                                                 43.87   \n",
       "Total Spend in Months 1 and 2 of 2017                                                  98.8904   \n",
       "Total SMS Spend                                                                           4.14   \n",
       "Total Data Spend                                                                          1.25   \n",
       "Total Data Consumption                                                                  1.0244   \n",
       "Total Unique Calls                                                                          27   \n",
       "Total Onnet spend                                                                         1626   \n",
       "Total Offnet spend                                                                        4373   \n",
       "Total Call centre complaint calls                                                            1   \n",
       "Network type subscription in Month 1                                                        2G   \n",
       "Network type subscription in Month 2                                                        2G   \n",
       "Most Loved Competitor network in in Month 1                                               Uxaa   \n",
       "Most Loved Competitor network in in Month 2                                              Mango   \n",
       "Churn Status                                                                                 0   \n",
       "features                                     [1316.0, 43.87, 98.8904, 4.14, 1.25, 1.0244, 2...   \n",
       "\n",
       "                                                                                             2  \\\n",
       "Customer ID                                                                            ADF0051   \n",
       "network_age                                                                               2385   \n",
       "Customer tenure in month                                                                  79.5   \n",
       "Total Spend in Months 1 and 2 of 2017                                                   372.63   \n",
       "Total SMS Spend                                                                           3.51   \n",
       "Total Data Spend                                                                          1.25   \n",
       "Total Data Consumption                                                                  6.0898   \n",
       "Total Unique Calls                                                                         119   \n",
       "Total Onnet spend                                                                        10411   \n",
       "Total Offnet spend                                                                       22039   \n",
       "Total Call centre complaint calls                                                            1   \n",
       "Network type subscription in Month 1                                                        2G   \n",
       "Network type subscription in Month 2                                                        2G   \n",
       "Most Loved Competitor network in in Month 1                                           Weematel   \n",
       "Most Loved Competitor network in in Month 2                                              Mango   \n",
       "Churn Status                                                                                 0   \n",
       "features                                     [2385.0, 79.5, 372.63, 3.51, 1.25, 6.0898, 119...   \n",
       "\n",
       "                                                                                             3  \\\n",
       "Customer ID                                                                            ADF0059   \n",
       "network_age                                                                               1614   \n",
       "Customer tenure in month                                                                  53.8   \n",
       "Total Spend in Months 1 and 2 of 2017                                                    530.2   \n",
       "Total SMS Spend                                                                           6.85   \n",
       "Total Data Spend                                                                          1.25   \n",
       "Total Data Consumption                                                                  3.3447   \n",
       "Total Unique Calls                                                                          69   \n",
       "Total Onnet spend                                                                         6822   \n",
       "Total Offnet spend                                                                        6274   \n",
       "Total Call centre complaint calls                                                            1   \n",
       "Network type subscription in Month 1                                                        2G   \n",
       "Network type subscription in Month 2                                                        2G   \n",
       "Most Loved Competitor network in in Month 1                                                  0   \n",
       "Most Loved Competitor network in in Month 2                                              Mango   \n",
       "Churn Status                                                                                 0   \n",
       "features                                     [1614.0, 53.8, 530.2, 6.85, 1.25, 3.3447, 69.0...   \n",
       "\n",
       "                                                                                             4  \n",
       "Customer ID                                                                            ADF0060  \n",
       "network_age                                                                               2175  \n",
       "Customer tenure in month                                                                  72.5  \n",
       "Total Spend in Months 1 and 2 of 2017                                                   554.13  \n",
       "Total SMS Spend                                                                           6.99  \n",
       "Total Data Spend                                                                        153.75  \n",
       "Total Data Consumption                                                                  673204  \n",
       "Total Unique Calls                                                                          33  \n",
       "Total Onnet spend                                                                         3387  \n",
       "Total Offnet spend                                                                        7241  \n",
       "Total Call centre complaint calls                                                            1  \n",
       "Network type subscription in Month 1                                                        2G  \n",
       "Network type subscription in Month 2                                                        3G  \n",
       "Most Loved Competitor network in in Month 1                                           Weematel  \n",
       "Most Loved Competitor network in in Month 2                                              Mango  \n",
       "Churn Status                                                                                 0  \n",
       "features                                     [2175.0, 72.5, 554.13, 6.99, 153.75, 673204.03...  "
      ]
     },
     "execution_count": 75,
     "metadata": {},
     "output_type": "execute_result"
    }
   ],
   "source": [
    "pd.DataFrame(df_train.take(5), columns = df_train.columns).transpose()"
   ]
  },
  {
   "cell_type": "code",
   "execution_count": 77,
   "metadata": {},
   "outputs": [],
   "source": [
    "from pyspark.ml.classification import DecisionTreeClassifier\n",
    "dt = DecisionTreeClassifier(labelCol = 'Churn Status', featuresCol = 'features')"
   ]
  },
  {
   "cell_type": "code",
   "execution_count": 78,
   "metadata": {},
   "outputs": [],
   "source": [
    "pipeline = Pipeline(stages=[vecAssembler, dt])"
   ]
  },
  {
   "cell_type": "code",
   "execution_count": 84,
   "metadata": {},
   "outputs": [],
   "source": [
    "model = pipeline.fit(CV_data)"
   ]
  },
  {
   "cell_type": "code",
   "execution_count": 49,
   "metadata": {},
   "outputs": [
    {
     "name": "stdout",
     "output_type": "stream",
     "text": [
      "root\n",
      " |-- Customer ID: string (nullable = true)\n",
      " |-- network_age: integer (nullable = true)\n",
      " |-- Customer tenure in month: double (nullable = true)\n",
      " |-- Total Spend in Months 1 and 2 of 2017: double (nullable = true)\n",
      " |-- Total SMS Spend: double (nullable = true)\n",
      " |-- Total Data Spend: double (nullable = true)\n",
      " |-- Total Data Consumption: double (nullable = true)\n",
      " |-- Total Unique Calls: integer (nullable = true)\n",
      " |-- Total Onnet spend : integer (nullable = true)\n",
      " |-- Total Offnet spend: integer (nullable = true)\n",
      " |-- Total Call centre complaint calls: integer (nullable = true)\n",
      " |-- Network type subscription in Month 1: string (nullable = true)\n",
      " |-- Network type subscription in Month 2: string (nullable = true)\n",
      " |-- Most Loved Competitor network in in Month 1: string (nullable = true)\n",
      " |-- Most Loved Competitor network in in Month 2: string (nullable = true)\n",
      " |-- Churn Status: integer (nullable = true)\n",
      "\n"
     ]
    }
   ],
   "source": [
    "cols = CV_data.columns\n",
    "CV_data.printSchema()"
   ]
  },
  {
   "cell_type": "markdown",
   "metadata": {},
   "source": [
    "The above code basically indexes each categorical column using the StringIndexer, and then converts the indexed categories into one-hot encoded variables. The resulting output has the binary vectors appended to the end of each row.\n",
    "\n",
    "Next, we will use the VectorAssembler to combine all the feature columns into a single vector column. This will include both the numeric columns and the one-hot encoded binary vector columns in our dataset."
   ]
  },
  {
   "cell_type": "markdown",
   "metadata": {},
   "source": [
    "### Pipeline\n",
    "\n",
    "We use Pipeline to chain multiple Transformers and Estimators together to specify our machine learning workflow. A Pipeline’s stages are specified as an ordered array."
   ]
  },
  {
   "cell_type": "code",
   "execution_count": 42,
   "metadata": {},
   "outputs": [
    {
     "data": {
      "text/plain": [
       "[Row(Customer ID='ADF0039', network_age=123, Customer tenure in month=4.1, Total Spend in Months 1 and 2 of 2017=76.714, Total SMS Spend=0.0, Total Data Spend=1.25, Total Data Consumption=1.4951, Total Unique Calls=14, Total Onnet spend =564, Total Offnet spend=6408, Total Call centre complaint calls=2, Network type subscription in Month 1='2G', Network type subscription in Month 2='2G', Most Loved Competitor network in in Month 1='Uxaa', Most Loved Competitor network in in Month 2='Mango', Churn Status=0),\n",
       " Row(Customer ID='ADF0041', network_age=1316, Customer tenure in month=43.87, Total Spend in Months 1 and 2 of 2017=98.8904, Total SMS Spend=4.14, Total Data Spend=1.25, Total Data Consumption=1.0244, Total Unique Calls=27, Total Onnet spend =1626, Total Offnet spend=4373, Total Call centre complaint calls=1, Network type subscription in Month 1='2G', Network type subscription in Month 2='2G', Most Loved Competitor network in in Month 1='Uxaa', Most Loved Competitor network in in Month 2='Mango', Churn Status=0)]"
      ]
     },
     "execution_count": 42,
     "metadata": {},
     "output_type": "execute_result"
    }
   ],
   "source": [
    "CV_data.head(2)"
   ]
  },
  {
   "cell_type": "code",
   "execution_count": 56,
   "metadata": {},
   "outputs": [
    {
     "name": "stdout",
     "output_type": "stream",
     "text": [
      "Training Dataset Count: 1401\n",
      "Test Dataset Count: 600\n"
     ]
    }
   ],
   "source": [
    "print(\"Training Dataset Count: \" + str(CV_data.count()))\n",
    "print(\"Test Dataset Count: \" + str(test_data.count()))"
   ]
  },
  {
   "cell_type": "code",
   "execution_count": 81,
   "metadata": {},
   "outputs": [],
   "source": [
    "model = pipeline.fit(CV_data)"
   ]
  },
  {
   "cell_type": "code",
   "execution_count": 42,
   "metadata": {},
   "outputs": [],
   "source": [
    "predictions = model.transform(test_data)"
   ]
  },
  {
   "cell_type": "code",
   "execution_count": 43,
   "metadata": {},
   "outputs": [
    {
     "data": {
      "text/html": [
       "<div>\n",
       "<style scoped>\n",
       "    .dataframe tbody tr th:only-of-type {\n",
       "        vertical-align: middle;\n",
       "    }\n",
       "\n",
       "    .dataframe tbody tr th {\n",
       "        vertical-align: top;\n",
       "    }\n",
       "\n",
       "    .dataframe thead th {\n",
       "        text-align: right;\n",
       "    }\n",
       "</style>\n",
       "<table border=\"1\" class=\"dataframe\">\n",
       "  <thead>\n",
       "    <tr style=\"text-align: right;\">\n",
       "      <th></th>\n",
       "      <th>prediction</th>\n",
       "      <th>Churn</th>\n",
       "      <th>features</th>\n",
       "    </tr>\n",
       "  </thead>\n",
       "  <tbody>\n",
       "    <tr>\n",
       "      <th>0</th>\n",
       "      <td>0.0</td>\n",
       "      <td>0.0</td>\n",
       "      <td>[117.0, 0.0, 0.0, 0.0, 184.5, 97.0, 351.6, 80....</td>\n",
       "    </tr>\n",
       "    <tr>\n",
       "      <th>1</th>\n",
       "      <td>1.0</td>\n",
       "      <td>1.0</td>\n",
       "      <td>[65.0, 0.0, 0.0, 0.0, 129.1, 137.0, 228.5, 83....</td>\n",
       "    </tr>\n",
       "    <tr>\n",
       "      <th>2</th>\n",
       "      <td>1.0</td>\n",
       "      <td>1.0</td>\n",
       "      <td>[161.0, 0.0, 0.0, 0.0, 332.9, 67.0, 317.8, 97....</td>\n",
       "    </tr>\n",
       "    <tr>\n",
       "      <th>3</th>\n",
       "      <td>0.0</td>\n",
       "      <td>0.0</td>\n",
       "      <td>[111.0, 0.0, 0.0, 0.0, 110.4, 103.0, 137.3, 10...</td>\n",
       "    </tr>\n",
       "    <tr>\n",
       "      <th>4</th>\n",
       "      <td>0.0</td>\n",
       "      <td>0.0</td>\n",
       "      <td>[49.0, 0.0, 0.0, 0.0, 119.3, 117.0, 215.1, 109...</td>\n",
       "    </tr>\n",
       "    <tr>\n",
       "      <th>5</th>\n",
       "      <td>0.0</td>\n",
       "      <td>0.0</td>\n",
       "      <td>[36.0, 0.0, 1.0, 30.0, 146.3, 128.0, 162.5, 80...</td>\n",
       "    </tr>\n",
       "    <tr>\n",
       "      <th>6</th>\n",
       "      <td>0.0</td>\n",
       "      <td>0.0</td>\n",
       "      <td>[65.0, 0.0, 0.0, 0.0, 211.3, 120.0, 162.6, 122...</td>\n",
       "    </tr>\n",
       "    <tr>\n",
       "      <th>7</th>\n",
       "      <td>0.0</td>\n",
       "      <td>1.0</td>\n",
       "      <td>[119.0, 0.0, 0.0, 0.0, 159.1, 114.0, 231.3, 11...</td>\n",
       "    </tr>\n",
       "    <tr>\n",
       "      <th>8</th>\n",
       "      <td>0.0</td>\n",
       "      <td>0.0</td>\n",
       "      <td>[10.0, 0.0, 0.0, 0.0, 186.1, 112.0, 190.2, 66....</td>\n",
       "    </tr>\n",
       "    <tr>\n",
       "      <th>9</th>\n",
       "      <td>0.0</td>\n",
       "      <td>0.0</td>\n",
       "      <td>[68.0, 0.0, 0.0, 0.0, 148.8, 70.0, 246.5, 164....</td>\n",
       "    </tr>\n",
       "    <tr>\n",
       "      <th>10</th>\n",
       "      <td>0.0</td>\n",
       "      <td>0.0</td>\n",
       "      <td>[74.0, 0.0, 1.0, 33.0, 193.7, 91.0, 246.1, 96....</td>\n",
       "    </tr>\n",
       "    <tr>\n",
       "      <th>11</th>\n",
       "      <td>0.0</td>\n",
       "      <td>0.0</td>\n",
       "      <td>[85.0, 0.0, 0.0, 0.0, 235.8, 109.0, 157.2, 94....</td>\n",
       "    </tr>\n",
       "    <tr>\n",
       "      <th>12</th>\n",
       "      <td>0.0</td>\n",
       "      <td>0.0</td>\n",
       "      <td>[46.0, 0.0, 0.0, 0.0, 214.1, 72.0, 164.4, 104....</td>\n",
       "    </tr>\n",
       "    <tr>\n",
       "      <th>13</th>\n",
       "      <td>0.0</td>\n",
       "      <td>0.0</td>\n",
       "      <td>[128.0, 0.0, 1.0, 29.0, 179.3, 104.0, 225.9, 8...</td>\n",
       "    </tr>\n",
       "    <tr>\n",
       "      <th>14</th>\n",
       "      <td>0.0</td>\n",
       "      <td>1.0</td>\n",
       "      <td>[155.0, 0.0, 0.0, 0.0, 203.4, 100.0, 190.9, 10...</td>\n",
       "    </tr>\n",
       "    <tr>\n",
       "      <th>15</th>\n",
       "      <td>0.0</td>\n",
       "      <td>0.0</td>\n",
       "      <td>[73.0, 0.0, 0.0, 0.0, 160.1, 110.0, 213.3, 72....</td>\n",
       "    </tr>\n",
       "    <tr>\n",
       "      <th>16</th>\n",
       "      <td>0.0</td>\n",
       "      <td>1.0</td>\n",
       "      <td>[77.0, 0.0, 0.0, 0.0, 251.8, 72.0, 205.7, 126....</td>\n",
       "    </tr>\n",
       "    <tr>\n",
       "      <th>17</th>\n",
       "      <td>0.0</td>\n",
       "      <td>0.0</td>\n",
       "      <td>[108.0, 0.0, 0.0, 0.0, 178.3, 137.0, 189.0, 76...</td>\n",
       "    </tr>\n",
       "    <tr>\n",
       "      <th>18</th>\n",
       "      <td>0.0</td>\n",
       "      <td>0.0</td>\n",
       "      <td>[95.0, 0.0, 0.0, 0.0, 135.0, 99.0, 183.6, 106....</td>\n",
       "    </tr>\n",
       "    <tr>\n",
       "      <th>19</th>\n",
       "      <td>0.0</td>\n",
       "      <td>0.0</td>\n",
       "      <td>[36.0, 0.0, 1.0, 29.0, 281.4, 102.0, 202.2, 76...</td>\n",
       "    </tr>\n",
       "  </tbody>\n",
       "</table>\n",
       "</div>"
      ],
      "text/plain": [
       "    prediction  Churn                                           features\n",
       "0          0.0    0.0  [117.0, 0.0, 0.0, 0.0, 184.5, 97.0, 351.6, 80....\n",
       "1          1.0    1.0  [65.0, 0.0, 0.0, 0.0, 129.1, 137.0, 228.5, 83....\n",
       "2          1.0    1.0  [161.0, 0.0, 0.0, 0.0, 332.9, 67.0, 317.8, 97....\n",
       "3          0.0    0.0  [111.0, 0.0, 0.0, 0.0, 110.4, 103.0, 137.3, 10...\n",
       "4          0.0    0.0  [49.0, 0.0, 0.0, 0.0, 119.3, 117.0, 215.1, 109...\n",
       "5          0.0    0.0  [36.0, 0.0, 1.0, 30.0, 146.3, 128.0, 162.5, 80...\n",
       "6          0.0    0.0  [65.0, 0.0, 0.0, 0.0, 211.3, 120.0, 162.6, 122...\n",
       "7          0.0    1.0  [119.0, 0.0, 0.0, 0.0, 159.1, 114.0, 231.3, 11...\n",
       "8          0.0    0.0  [10.0, 0.0, 0.0, 0.0, 186.1, 112.0, 190.2, 66....\n",
       "9          0.0    0.0  [68.0, 0.0, 0.0, 0.0, 148.8, 70.0, 246.5, 164....\n",
       "10         0.0    0.0  [74.0, 0.0, 1.0, 33.0, 193.7, 91.0, 246.1, 96....\n",
       "11         0.0    0.0  [85.0, 0.0, 0.0, 0.0, 235.8, 109.0, 157.2, 94....\n",
       "12         0.0    0.0  [46.0, 0.0, 0.0, 0.0, 214.1, 72.0, 164.4, 104....\n",
       "13         0.0    0.0  [128.0, 0.0, 1.0, 29.0, 179.3, 104.0, 225.9, 8...\n",
       "14         0.0    1.0  [155.0, 0.0, 0.0, 0.0, 203.4, 100.0, 190.9, 10...\n",
       "15         0.0    0.0  [73.0, 0.0, 0.0, 0.0, 160.1, 110.0, 213.3, 72....\n",
       "16         0.0    1.0  [77.0, 0.0, 0.0, 0.0, 251.8, 72.0, 205.7, 126....\n",
       "17         0.0    0.0  [108.0, 0.0, 0.0, 0.0, 178.3, 137.0, 189.0, 76...\n",
       "18         0.0    0.0  [95.0, 0.0, 0.0, 0.0, 135.0, 99.0, 183.6, 106....\n",
       "19         0.0    0.0  [36.0, 0.0, 1.0, 29.0, 281.4, 102.0, 202.2, 76..."
      ]
     },
     "execution_count": 43,
     "metadata": {},
     "output_type": "execute_result"
    }
   ],
   "source": [
    "predictions.select('prediction', 'Churn', 'features').toPandas().head(20)"
   ]
  },
  {
   "cell_type": "code",
   "execution_count": 44,
   "metadata": {},
   "outputs": [],
   "source": [
    "evaluator = BinaryClassificationEvaluator(labelCol = 'Churn', rawPredictionCol='prediction')"
   ]
  },
  {
   "cell_type": "code",
   "execution_count": 45,
   "metadata": {},
   "outputs": [
    {
     "data": {
      "text/plain": [
       "0.8184302539565699"
      ]
     },
     "execution_count": 45,
     "metadata": {},
     "output_type": "execute_result"
    }
   ],
   "source": [
    "evaluator.evaluate(predictions)"
   ]
  },
  {
   "cell_type": "code",
   "execution_count": 83,
   "metadata": {},
   "outputs": [
    {
     "name": "stdout",
     "output_type": "stream",
     "text": [
      "Whole NoteBook Running time 364.503 seconds\n"
     ]
    }
   ],
   "source": [
    "tt = time() - t0\n",
    "\n",
    "print(\"Whole NoteBook Running time {} seconds\".format(round(tt,3)))"
   ]
  }
 ],
 "metadata": {
  "kernelspec": {
   "display_name": "Python 3",
   "language": "python",
   "name": "python3"
  },
  "language_info": {
   "codemirror_mode": {
    "name": "ipython",
    "version": 3
   },
   "file_extension": ".py",
   "mimetype": "text/x-python",
   "name": "python",
   "nbconvert_exporter": "python",
   "pygments_lexer": "ipython3",
   "version": "3.6.4"
  }
 },
 "nbformat": 4,
 "nbformat_minor": 2
}
